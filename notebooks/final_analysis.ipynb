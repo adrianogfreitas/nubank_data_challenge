{
 "cells": [
  {
   "cell_type": "markdown",
   "metadata": {},
   "source": [
    "# Nubank data challenge - Credit Risk Analysis\n",
    "## by Adriano Freitas"
   ]
  },
  {
   "cell_type": "markdown",
   "metadata": {},
   "source": [
    "## Approval flow"
   ]
  },
  {
   "cell_type": "markdown",
   "metadata": {},
   "source": [
    "We decided to use the approval flow described below for the credit analysis.\n",
    "\n",
    "1. **Fraud prediction:** to determine the probability of an application being a fraud\n",
    "2. **Default prediction:** to determine the probability of an applicant becoming defaulted\n",
    "3. **Spending prediction:** to determine how much an applicant should spend\n",
    "\n",
    "This approval process will decide:\n",
    "\n",
    "1. If the application will be **accepted or not**\n",
    "2. The credit **line**"
   ]
  },
  {
   "cell_type": "markdown",
   "metadata": {},
   "source": [
    "### Fraud prediction"
   ]
  },
  {
   "cell_type": "markdown",
   "metadata": {},
   "source": [
    "In fraud prediction we are concerned on predicting the probability of an application being a fraud.\n",
    "\n",
    "It is very common for fraud to be committed by family members or friends of a person, for this we have even a special type of fraud, but we have decided to only predict whether the application will be fraud or not, regardless of its type.\n",
    "\n",
    "According to [this site](https://www.ecommercebrasil.com.br/noticias/quase-2-das-compras-na-black-friday-foram-feitas-com-cartoes-clonados/), almost 2% of attempts to buy on Black Friday 2017 were fraud.\n",
    "\n",
    "We decide to mark as fraud if our model predict a probability grater than 1,5%."
   ]
  },
  {
   "cell_type": "markdown",
   "metadata": {},
   "source": [
    "### Default prediction"
   ]
  },
  {
   "cell_type": "markdown",
   "metadata": {},
   "source": [
    "In default prediction we are concerned to predict the probability of an applicant becoming defaulted.\n",
    "\n",
    "Accordind to [this site](https://www.valor.com.br/financas/5623039/juro-do-cartao-de-credito-cai-243-em-maio-para-cliente-regular), the default rate for credit cards turns around 33% and 34%.\n",
    "\n",
    "We decide that 30% is an acceptable rate."
   ]
  },
  {
   "cell_type": "markdown",
   "metadata": {},
   "source": [
    "### Spending prediction"
   ]
  },
  {
   "cell_type": "markdown",
   "metadata": {},
   "source": [
    "Based on applicant characteristics and on our database, we predict a probable amount of expenses for this applicant."
   ]
  },
  {
   "cell_type": "markdown",
   "metadata": {},
   "source": [
    "## Final rule"
   ]
  },
  {
   "cell_type": "markdown",
   "metadata": {},
   "source": [
    "All Applicants that passes in the first 2 filters (fraud and default) are pre-approved.\n",
    "\n",
    "So we need to calculate a credit line (limit) for them, and we used a simple rule to determine a value:\n",
    "\n",
    "\\begin{align}\n",
    "{credit\\ line} = {expenses\\ predicted} \\times (1 - {probability\\ of\\ default})\n",
    "\\end{align}\n",
    "\n",
    "It would be great if we could accept every request that comes to us, but we need to limit it. We can issue up to 1500 cards per month, so only the 1500 best orders are accepted. But how we will decide the best applicants? Well, we just will sortby credit line descending.\n",
    "\n",
    "Mybe this is not a fair way to decide, but we can inprove this in future."
   ]
  },
  {
   "cell_type": "markdown",
   "metadata": {},
   "source": [
    "## Considerations"
   ]
  },
  {
   "cell_type": "markdown",
   "metadata": {},
   "source": [
    "Although a very good model is very important, due to time constraints, I decided to sacrifice a bit of accuracy metrics in order to develop a more robust and complete solution.\n",
    "\n",
    "The current solution, as it is structured, can be easily adapted to put into production, incorporating into a micro service for example. Your code is clean, simple and easy to maintain.\n",
    "\n",
    "All the rules cited in this document are flexible and can be changed once the scenario changes, or even after we measure performance in the real world, which will be done constantly."
   ]
  },
  {
   "cell_type": "markdown",
   "metadata": {},
   "source": [
    "## Next steps"
   ]
  },
  {
   "cell_type": "markdown",
   "metadata": {},
   "source": [
    "Publish, measure, improve, repeat."
   ]
  },
  {
   "cell_type": "markdown",
   "metadata": {},
   "source": [
    "## Acknowledgment"
   ]
  },
  {
   "cell_type": "markdown",
   "metadata": {},
   "source": [
    "I would like to thank the opportunity to participate in this challenge, it was a period of great dedication to achieve these results and I gave my best. I hope you enjoy the results as much as I enjoyed doing this work."
   ]
  }
 ],
 "metadata": {
  "kernelspec": {
   "display_name": "Python 3",
   "language": "python",
   "name": "python3"
  },
  "language_info": {
   "codemirror_mode": {
    "name": "ipython",
    "version": 3
   },
   "file_extension": ".py",
   "mimetype": "text/x-python",
   "name": "python",
   "nbconvert_exporter": "python",
   "pygments_lexer": "ipython3",
   "version": "3.6.4"
  }
 },
 "nbformat": 4,
 "nbformat_minor": 2
}
